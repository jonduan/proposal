{
 "cells": [
  {
   "cell_type": "code",
   "execution_count": 1,
   "metadata": {
    "collapsed": true
   },
   "outputs": [],
   "source": [
    "import math\n",
    "import numpy as np\n",
    "import datetime as dt\n",
    "import matplotlib.pyplot as plt \n",
    "import pandas as pd\n",
    "import pvlib\n",
    "from pvlib.location import Location\n",
    "%matplotlib notebook\n",
    "# seaborn makes the plots look nicer\n",
    "import seaborn as sns\n",
    "sns.set_color_codes()"
   ]
  },
  {
   "cell_type": "code",
   "execution_count": 2,
   "metadata": {
    "collapsed": true
   },
   "outputs": [],
   "source": [
    "from pvlib.pvsystem import PVSystem\n",
    "#from pvlib.location import Location\n",
    "from pvlib.modelchain import ModelChain\n",
    "\n",
    "# load some module and inverter specifications\n",
    "sandia_modules = pvlib.pvsystem.retrieve_sam('SandiaMod')\n",
    "cec_inverters = pvlib.pvsystem.retrieve_sam('cecinverter')\n",
    "cec_modules = pvlib.pvsystem.retrieve_sam(name='CECMod')"
   ]
  },
  {
   "cell_type": "code",
   "execution_count": null,
   "metadata": {
    "collapsed": true
   },
   "outputs": [],
   "source": []
  },
  {
   "cell_type": "code",
   "execution_count": 3,
   "metadata": {
    "collapsed": true
   },
   "outputs": [],
   "source": [
    "module = sandia_modules['Canadian_Solar_CS5P_220M___2009_']\n",
    "inverter = cec_inverters['ABB__MICRO_0_25_I_OUTD_US_208_208V__CEC_2014_']\n",
    "\n"
   ]
  },
  {
   "cell_type": "code",
   "execution_count": 4,
   "metadata": {},
   "outputs": [
    {
     "data": {
      "text/plain": [
       "Vintage                                                          2009\n",
       "Area                                                            1.701\n",
       "Material                                                         c-Si\n",
       "Cells_in_Series                                                    96\n",
       "Parallel_Strings                                                    1\n",
       "Isco                                                          5.09115\n",
       "Voco                                                          59.2608\n",
       "Impo                                                          4.54629\n",
       "Vmpo                                                          48.3156\n",
       "Aisc                                                         0.000397\n",
       "Aimp                                                         0.000181\n",
       "C0                                                            1.01284\n",
       "C1                                                         -0.0128398\n",
       "Bvoco                                                        -0.21696\n",
       "Mbvoc                                                               0\n",
       "Bvmpo                                                       -0.235488\n",
       "Mbvmp                                                               0\n",
       "N                                                              1.4032\n",
       "C2                                                           0.279317\n",
       "C3                                                           -7.24463\n",
       "A0                                                           0.928385\n",
       "A1                                                           0.068093\n",
       "A2                                                         -0.0157738\n",
       "A3                                                          0.0016606\n",
       "A4                                                          -6.93e-05\n",
       "B0                                                                  1\n",
       "B1                                                          -0.002438\n",
       "B2                                                          0.0003103\n",
       "B3                                                         -1.246e-05\n",
       "B4                                                           2.11e-07\n",
       "B5                                                          -1.36e-09\n",
       "DTC                                                                 3\n",
       "FD                                                                  1\n",
       "A                                                            -3.40641\n",
       "B                                                          -0.0842075\n",
       "C4                                                           0.996446\n",
       "C5                                                           0.003554\n",
       "IXO                                                           4.97599\n",
       "IXXO                                                          3.18803\n",
       "C6                                                            1.15535\n",
       "C7                                                          -0.155353\n",
       "Notes               Source: Sandia National Laboratories Updated 9...\n",
       "Name: Canadian_Solar_CS5P_220M___2009_, dtype: object"
      ]
     },
     "execution_count": 4,
     "metadata": {},
     "output_type": "execute_result"
    }
   ],
   "source": [
    "module"
   ]
  },
  {
   "cell_type": "code",
   "execution_count": 5,
   "metadata": {},
   "outputs": [
    {
     "data": {
      "text/plain": [
       "Vac          208.000000\n",
       "Paco         250.000000\n",
       "Pdco         259.522050\n",
       "Vdco          40.242603\n",
       "Pso            1.771614\n",
       "C0            -0.000025\n",
       "C1            -0.000090\n",
       "C2             0.000669\n",
       "C3            -0.018900\n",
       "Pnt            0.020000\n",
       "Vdcmax        65.000000\n",
       "Idcmax        10.000000\n",
       "Mppt_low      20.000000\n",
       "Mppt_high     50.000000\n",
       "Name: ABB__MICRO_0_25_I_OUTD_US_208_208V__CEC_2014_, dtype: float64"
      ]
     },
     "execution_count": 5,
     "metadata": {},
     "output_type": "execute_result"
    }
   ],
   "source": [
    "inverter"
   ]
  },
  {
   "cell_type": "code",
   "execution_count": 7,
   "metadata": {
    "collapsed": true
   },
   "outputs": [],
   "source": [
    "\n",
    "\n",
    "\n",
    "system = {'module': module, 'inverter': inverter,\n",
    "           'surface_azimuth': 180}\n",
    "\n",
    "\n",
    "\n",
    "\n"
   ]
  },
  {
   "cell_type": "code",
   "execution_count": 8,
   "metadata": {},
   "outputs": [
    {
     "data": {
      "text/plain": [
       "{'inverter': Vac          208.000000\n",
       " Paco         250.000000\n",
       " Pdco         259.522050\n",
       " Vdco          40.242603\n",
       " Pso            1.771614\n",
       " C0            -0.000025\n",
       " C1            -0.000090\n",
       " C2             0.000669\n",
       " C3            -0.018900\n",
       " Pnt            0.020000\n",
       " Vdcmax        65.000000\n",
       " Idcmax        10.000000\n",
       " Mppt_low      20.000000\n",
       " Mppt_high     50.000000\n",
       " Name: ABB__MICRO_0_25_I_OUTD_US_208_208V__CEC_2014_, dtype: float64,\n",
       " 'module': Vintage                                                          2009\n",
       " Area                                                            1.701\n",
       " Material                                                         c-Si\n",
       " Cells_in_Series                                                    96\n",
       " Parallel_Strings                                                    1\n",
       " Isco                                                          5.09115\n",
       " Voco                                                          59.2608\n",
       " Impo                                                          4.54629\n",
       " Vmpo                                                          48.3156\n",
       " Aisc                                                         0.000397\n",
       " Aimp                                                         0.000181\n",
       " C0                                                            1.01284\n",
       " C1                                                         -0.0128398\n",
       " Bvoco                                                        -0.21696\n",
       " Mbvoc                                                               0\n",
       " Bvmpo                                                       -0.235488\n",
       " Mbvmp                                                               0\n",
       " N                                                              1.4032\n",
       " C2                                                           0.279317\n",
       " C3                                                           -7.24463\n",
       " A0                                                           0.928385\n",
       " A1                                                           0.068093\n",
       " A2                                                         -0.0157738\n",
       " A3                                                          0.0016606\n",
       " A4                                                          -6.93e-05\n",
       " B0                                                                  1\n",
       " B1                                                          -0.002438\n",
       " B2                                                          0.0003103\n",
       " B3                                                         -1.246e-05\n",
       " B4                                                           2.11e-07\n",
       " B5                                                          -1.36e-09\n",
       " DTC                                                                 3\n",
       " FD                                                                  1\n",
       " A                                                            -3.40641\n",
       " B                                                          -0.0842075\n",
       " C4                                                           0.996446\n",
       " C5                                                           0.003554\n",
       " IXO                                                           4.97599\n",
       " IXXO                                                          3.18803\n",
       " C6                                                            1.15535\n",
       " C7                                                          -0.155353\n",
       " Notes               Source: Sandia National Laboratories Updated 9...\n",
       " Name: Canadian_Solar_CS5P_220M___2009_, dtype: object,\n",
       " 'surface_azimuth': 180}"
      ]
     },
     "execution_count": 8,
     "metadata": {},
     "output_type": "execute_result"
    }
   ],
   "source": [
    "system"
   ]
  },
  {
   "cell_type": "code",
   "execution_count": 9,
   "metadata": {
    "collapsed": true
   },
   "outputs": [],
   "source": [
    "coordinates=[(53.03, -112.49, 'Camrose', 739, 'Etc/GMT+7'),\n",
    "                  (53.55, -114.11, 'Edmonton', 766, 'Etc/GMT+7'),\n",
    "                  (55.18, -118.88, 'GrandPrairie', 669 , 'Etc/GMT+7'), \n",
    "             (49.68, -112.75, 'Lethebridge', 903, 'Etc/GMT+7'),\n",
    "                (56.23,-117.45, 'PeaceRiver', 570, 'Etc/GMT+7'),\n",
    "             (49.52,-114.00, 'PincherCreek', 1189.6, 'Etc/GMT+7'),          \n",
    "               (51.05, -114.0852, 'Calgary', 1042,'Etc/GMT+7')\n",
    "            ]"
   ]
  },
  {
   "cell_type": "code",
   "execution_count": 10,
   "metadata": {
    "collapsed": true
   },
   "outputs": [],
   "source": [
    "latitude, longitude, name, altitude, timezone = coordinates[0]"
   ]
  },
  {
   "cell_type": "code",
   "execution_count": 11,
   "metadata": {
    "collapsed": true
   },
   "outputs": [],
   "source": [
    "chosen6 = pd.read_csv(\"chosen6solar.csv\")"
   ]
  },
  {
   "cell_type": "code",
   "execution_count": 12,
   "metadata": {},
   "outputs": [
    {
     "data": {
      "text/html": [
       "<div>\n",
       "<table border=\"1\" class=\"dataframe\">\n",
       "  <thead>\n",
       "    <tr style=\"text-align: right;\">\n",
       "      <th></th>\n",
       "      <th>name</th>\n",
       "      <th>tz</th>\n",
       "      <th>Latitude</th>\n",
       "      <th>Longitude</th>\n",
       "      <th>Elevation</th>\n",
       "    </tr>\n",
       "  </thead>\n",
       "  <tbody>\n",
       "    <tr>\n",
       "      <th>0</th>\n",
       "      <td>CAMROSE</td>\n",
       "      <td>Etc/GMT+7</td>\n",
       "      <td>53.05</td>\n",
       "      <td>-112.82</td>\n",
       "      <td>739.0</td>\n",
       "    </tr>\n",
       "    <tr>\n",
       "      <th>1</th>\n",
       "      <td>EDMONTON-STONY-PLAIN-CS</td>\n",
       "      <td>Etc/GMT+7</td>\n",
       "      <td>53.55</td>\n",
       "      <td>-114.11</td>\n",
       "      <td>766.0</td>\n",
       "    </tr>\n",
       "    <tr>\n",
       "      <th>2</th>\n",
       "      <td>GRANDE-PRAIRIE-A</td>\n",
       "      <td>Etc/GMT+7</td>\n",
       "      <td>55.18</td>\n",
       "      <td>-118.88</td>\n",
       "      <td>669.0</td>\n",
       "    </tr>\n",
       "    <tr>\n",
       "      <th>3</th>\n",
       "      <td>LETHBRIDGE-DEMO-FARM-AGDM</td>\n",
       "      <td>Etc/GMT+7</td>\n",
       "      <td>49.68</td>\n",
       "      <td>-112.75</td>\n",
       "      <td>903.0</td>\n",
       "    </tr>\n",
       "    <tr>\n",
       "      <th>4</th>\n",
       "      <td>PEACE-RIVER-A</td>\n",
       "      <td>Etc/GMT+7</td>\n",
       "      <td>56.23</td>\n",
       "      <td>-117.45</td>\n",
       "      <td>570.9</td>\n",
       "    </tr>\n",
       "    <tr>\n",
       "      <th>5</th>\n",
       "      <td>PINCHER-CREEK</td>\n",
       "      <td>Etc/GMT+7</td>\n",
       "      <td>49.52</td>\n",
       "      <td>-114.00</td>\n",
       "      <td>1189.6</td>\n",
       "    </tr>\n",
       "  </tbody>\n",
       "</table>\n",
       "</div>"
      ],
      "text/plain": [
       "                        name         tz  Latitude  Longitude  Elevation\n",
       "0                    CAMROSE  Etc/GMT+7     53.05    -112.82      739.0\n",
       "1    EDMONTON-STONY-PLAIN-CS  Etc/GMT+7     53.55    -114.11      766.0\n",
       "2           GRANDE-PRAIRIE-A  Etc/GMT+7     55.18    -118.88      669.0\n",
       "3  LETHBRIDGE-DEMO-FARM-AGDM  Etc/GMT+7     49.68    -112.75      903.0\n",
       "4              PEACE-RIVER-A  Etc/GMT+7     56.23    -117.45      570.9\n",
       "5              PINCHER-CREEK  Etc/GMT+7     49.52    -114.00     1189.6"
      ]
     },
     "execution_count": 12,
     "metadata": {},
     "output_type": "execute_result"
    }
   ],
   "source": [
    "chosen6[[\"name\",'tz','Latitude','Longitude','Elevation']]"
   ]
  },
  {
   "cell_type": "code",
   "execution_count": 13,
   "metadata": {},
   "outputs": [
    {
     "data": {
      "text/plain": [
       "name         EDMONTON-STONY-PLAIN-CS\n",
       "tz                         Etc/GMT+7\n",
       "Latitude                       53.55\n",
       "Longitude                    -114.11\n",
       "Elevation                        766\n",
       "Name: 1, dtype: object"
      ]
     },
     "execution_count": 13,
     "metadata": {},
     "output_type": "execute_result"
    }
   ],
   "source": [
    "chosen6[[\"name\",'tz','Latitude','Longitude','Elevation']].iloc[1,:]"
   ]
  },
  {
   "cell_type": "code",
   "execution_count": null,
   "metadata": {
    "collapsed": true
   },
   "outputs": [],
   "source": []
  },
  {
   "cell_type": "code",
   "execution_count": null,
   "metadata": {
    "collapsed": true
   },
   "outputs": [],
   "source": []
  },
  {
   "cell_type": "code",
   "execution_count": 14,
   "metadata": {
    "collapsed": true
   },
   "outputs": [],
   "source": [
    "def convert_to_ac(i):\n",
    "    \n",
    "    name, timezone, latitude, longitude, altitude = chosen6[[\"name\",'tz','Latitude','Longitude','Elevation']].iloc[i,:]\n",
    "    \n",
    "    solar_plant = pd.read_csv(\"chosen_stations/\"+ name + \".csv\",low_memory=False)\n",
    "\n",
    "    solar_plant.rename(columns={'y': 'year', 'm': 'month', 'd': 'day', 'h':'hour'}, inplace=True)\n",
    "\n",
    "    solar_plant[\"times\"]  =pd.to_datetime(solar_plant[['year', 'month', 'day', 'hour']])\n",
    "\n",
    "    times = pd.DatetimeIndex(solar_plant[\"times\"]).tz_localize(timezone)\n",
    "\n",
    "    solar_plant[\"times\"] =times\n",
    "\n",
    "    solar_plant.set_index(pd.DatetimeIndex(solar_plant[\"times\"]), inplace= True)\n",
    "\n",
    "    wind_speed = solar_plant.winS/10\n",
    "\n",
    "    temp_air = solar_plant[\"tem\"]/10\n",
    "\n",
    "    system['surface_tilt'] = latitude\n",
    "\n",
    "    solpos = pvlib.solarposition.get_solarposition(times, latitude, longitude)\n",
    "\n",
    "    #dni_extra = pvlib.irradiance.extraradiation(times)\n",
    "\n",
    "    dni_extra=solar_plant.ir*1000/3600\n",
    "\n",
    "    dni_extra = pd.Series(dni_extra, index=times)\n",
    "\n",
    "\n",
    "    airmass = pvlib.atmosphere.relativeairmass(solpos['apparent_zenith'])\n",
    "    # pressure = pvlib.atmosphere.alt2pres(altitude)\n",
    "    # use historical pressure\n",
    "    pressure = solar_plant.pre*10\n",
    "\n",
    "    am_abs = pvlib.atmosphere.absoluteairmass(airmass, pressure)\n",
    "\n",
    "    tl = pvlib.clearsky.lookup_linke_turbidity(times, latitude, longitude)\n",
    "\n",
    "    # use our data from CWEEC\n",
    "    \n",
    "    # cs = pvlib.clearsky.ineichen(solpos['apparent_zenith'], am_abs, tl,\n",
    "    #                              dni_extra=dni_extra, altitude=altitude)\n",
    "    cs = pd.DataFrame()\n",
    "    cs['dni'], cs['ghi'], cs['dhi']= solar_plant.dni*1000/3600, solar_plant.ghi*1000/3600,solar_plant.dhi*1000/3600\n",
    "\n",
    "    aoi = pvlib.irradiance.aoi(system['surface_tilt'], system['surface_azimuth'],\n",
    "                               solpos['apparent_zenith'], solpos['azimuth'])\n",
    "\n",
    "    total_irrad = pvlib.irradiance.total_irrad(system['surface_tilt'],\n",
    "                                               system['surface_azimuth'],\n",
    "                                               solpos['apparent_zenith'],\n",
    "                                               solpos['azimuth'],\n",
    "                                               cs['dni'], cs['ghi'], cs['dhi'],\n",
    "                                               dni_extra=dni_extra,\n",
    "                                               model='haydavies')\n",
    "\n",
    "    temps = pvlib.pvsystem.sapm_celltemp(total_irrad['poa_global'],\n",
    "                                         wind_speed, temp_air)\n",
    "\n",
    "    effective_irradiance = pvlib.pvsystem.sapm_effective_irradiance(\n",
    "        total_irrad['poa_direct'], total_irrad['poa_diffuse'],\n",
    "        am_abs, aoi, module)\n",
    "\n",
    "    dc = pvlib.pvsystem.sapm(effective_irradiance, temps['temp_cell'], module)\n",
    "    ac = pvlib.pvsystem.snlinverter(dc['v_mp'], dc['p_mp'], inverter)\n",
    "    #annual_energy = ac.sum()\n",
    "\n",
    "    solar_plant['ac']=ac\n",
    "    solar_plant.to_csv( name + '_ac.csv')"
   ]
  },
  {
   "cell_type": "code",
   "execution_count": 18,
   "metadata": {},
   "outputs": [
    {
     "name": "stderr",
     "output_type": "stream",
     "text": [
      "/home/jon/anaconda2/envs/py36/lib/python3.6/site-packages/pvlib/pvsystem.py:1303: RuntimeWarning: divide by zero encountered in log\n",
      "  module['Voco'] + module['Cells_in_Series']*delta*np.log(Ee) +\n",
      "/home/jon/anaconda2/envs/py36/lib/python3.6/site-packages/pvlib/pvsystem.py:1309: RuntimeWarning: divide by zero encountered in log\n",
      "  module['C3']*module['Cells_in_Series']*((delta*np.log(Ee)) ** 2) +\n"
     ]
    }
   ],
   "source": [
    "# W/hr\n",
    "convert_to_ac(5)\n"
   ]
  },
  {
   "cell_type": "code",
   "execution_count": null,
   "metadata": {
    "collapsed": true
   },
   "outputs": [],
   "source": []
  },
  {
   "cell_type": "code",
   "execution_count": null,
   "metadata": {
    "collapsed": true
   },
   "outputs": [],
   "source": []
  },
  {
   "cell_type": "code",
   "execution_count": null,
   "metadata": {
    "collapsed": true
   },
   "outputs": [],
   "source": []
  },
  {
   "cell_type": "code",
   "execution_count": null,
   "metadata": {
    "collapsed": true
   },
   "outputs": [],
   "source": []
  }
 ],
 "metadata": {
  "kernelspec": {
   "display_name": "Python 3",
   "language": "python",
   "name": "python3"
  },
  "language_info": {
   "codemirror_mode": {
    "name": "ipython",
    "version": 3
   },
   "file_extension": ".py",
   "mimetype": "text/x-python",
   "name": "python",
   "nbconvert_exporter": "python",
   "pygments_lexer": "ipython3",
   "version": "3.6.3"
  }
 },
 "nbformat": 4,
 "nbformat_minor": 2
}
