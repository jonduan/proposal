{
 "cells": [
  {
   "cell_type": "markdown",
   "metadata": {},
   "source": [
    "Energy:\n",
    "\n",
    "1 BTU/hour = 0.293 Watts\n",
    "1 Megawatt = 3,413,000 BTU/hour\n",
    "1 boiler horsepower (BHP) = 33520 BTU/hr\n",
    "1 boiler horsepower (BHP) = 9803 Watts\n",
    "\n",
    "1 lb/mmbtu = 1.548 kg/MW-hr\n",
    "1 lb steam/hr (300 psi, saturated) = 1202 BTU/hr\n",
    "1 million ft3 = 10,000 therms\n",
    "1 therm = 100,000 BTU\n",
    "1 therm = 100 ft3natural gas (approximately)\n",
    "1 ft3 natural gas = 1000 BTU (approximately)\n",
    "1 Pound of fuel oil = 19,000 BTU (approximately)\n",
    "\n",
    "1 lb = 0.453592 kg\n",
    "equivalent Btu content of a kWh of electricity (3,412 Btu)\n",
    "\n",
    "http://www.epa.illinois.gov/topics/air-quality/planning-reporting/annual-emission-reports/tables/conversion-factors/index"
   ]
  },
  {
   "cell_type": "code",
   "execution_count": 15,
   "metadata": {
    "ExecuteTime": {
     "end_time": "2018-01-08T07:00:34.116287Z",
     "start_time": "2018-01-08T07:00:34.113263Z"
    }
   },
   "outputs": [
    {
     "data": {
      "text/plain": [
       "1.54765716644"
      ]
     },
     "execution_count": 15,
     "metadata": {},
     "output_type": "execute_result"
    }
   ],
   "source": [
    "((1)*0.45359237)/((1000000/3412)/1000)"
   ]
  },
  {
   "cell_type": "markdown",
   "metadata": {},
   "source": [
    "| BTU or btu | British thermal units                  |\n",
    "|------------|----------------------------------------|\n",
    "| ft         | foot                                   |\n",
    "| gr         | grains                                 |\n",
    "| J          | Joule                                  |\n",
    "| kg         | kilogram                               |\n",
    "| kg/MW-hr   | kilograms per megawatt-hour            |\n",
    "| km         | kilometer                              |\n",
    "| lbs        | pounds                                 |\n",
    "| lbs/mmBtu  | pounds per million Btu                 |\n",
    "| m          | meter                                  |\n",
    "| mg         | milligram                              |\n",
    "| Mg         | megagram, metric ton or tonne          |\n",
    "| mi         | mile                                   |\n",
    "| mmBtu      | million British thermal units          |\n",
    "| mmBtu/hr   | million British thermal units per hour |\n",
    "| MW         | megawatt; one million watts            |\n",
    "| MW-hr      | megawatt-hour                          |\n",
    "| ng         | nanogram; one billionth of a gram      |\n",
    "| ng/J       | nanograms per Joule                    |\n",
    "| ppm        | parts per million                      |\n",
    "| scf        | standard cubic foot                    |\n",
    "| scm        | standard cubic meter                   |\n",
    "| T          | English ton                            |\n",
    "\n",
    "\n",
    "\n",
    "ftp://www.ilga.gov/jcar/admincode/035/035002140A01020R.html\n",
    "\n",
    "\n",
    "| English    | Metric         |\n",
    "|------------|----------------|\n",
    "| 2.205 lb   | 1 kg           |\n",
    "| 1 T        | 0.907 Mg       |\n",
    "| 1 lb/T     | 0.500 kg/Mg    |\n",
    "| mmBtu/hr   | 0.293 MW       |\n",
    "| 1 lb/mmBtu | 1.548 kg/MW-hr |\n",
    "| 1 mi       | 1.61 km        |\n",
    "| 1 gr/scf   | 2289 mg/scm    |"
   ]
  },
  {
   "cell_type": "markdown",
   "metadata": {},
   "source": [
    "1 British Thermal Unit (BTU) = the heat required to raise the temperature of 1 pound of water by 1°F\n",
    "\n",
    "To generate 1 kilowatt-hour (kWh) requires 10,000 Btu of fuel burned by average utility\n",
    "\n",
    "Energy Conversions1 kW = 1000 Watts\n",
    "\n",
    "1 Btu/hour = .293 Watts\n",
    "\n",
    "1 Btu = .293 watt-hour\n",
    "\n",
    "1 kilowatt (kW) = 1.341 horsepower (hp)\n",
    "\n",
    "1 kilowatt-hour (kWh) = 1.341 horsepower-hour\n",
    "\n",
    "1 horsepower (hp) = .746 kilowatt (kW)\n",
    "\n",
    "1 horsepower-hour = .746 kilowatt-hour (kWh)\n",
    "\n",
    "1 horsepower-hour = 2545 Btu\n",
    "\n",
    "1 kilowatt-hour (kWh) = 3412 Btu\n",
    "\n",
    "1 Megawatt = 3,413,000 Btu/hour\n",
    "\n",
    "1 boiler horsepower (Bhp) = 33,472 Btu/hour output\n",
    "\n",
    "1 boiler horsepower (Bhp) = 41,840 Btu/hour input @ 80% efficiency\n",
    "\n",
    "100 boiler horsepower = 42 therm input @ 80% efficiency\n",
    "\n",
    "1 boiler horsepower (Bhp) = 9803 Watts\n",
    "\n",
    "1 lb steam/hr (300 psi, saturated) = 1202 Btu/hr\n",
    "\n",
    "1 therm = 29.3 kWh\n",
    "\n",
    "1 therm = 100 ft3 natural gas (approximately)\n",
    "\n",
    "1 therm = 100,000 Btu\n",
    "\n",
    "1 mmBtu = 1 MBtu = 1 million Btu\n",
    "\n",
    "1 lb/mmBtu = 1.548 kg/MW-hour\n",
    "\n",
    "1 ft3 natural gas = 1030 Btu (heat content of gas varies)\n",
    "\n",
    "1 mmBtu = .9649 thousand cubic feet (Mcf) natural gas\n",
    "\n",
    "1 lb of fuel oil = 19,000 Btu (approximately)\n",
    "\n",
    "1 ton of refrigeration = 12,000 Btu/hour\n",
    "\n",
    "1 ton of refrigeration = 3.516 kW\n",
    "\n",
    "kWh x .003412 = mmBtu\n",
    "\n",
    "mcf / .9649 = mmBtu\n",
    "\n",
    "1 degree-day = the difference between the base temperature for a building and the average outside temperature calculated over the period of one day\n",
    "\n",
    "base temperature = the outside temperature at which no heating or cooling is needed for a building"
   ]
  },
  {
   "cell_type": "markdown",
   "metadata": {
    "ExecuteTime": {
     "end_time": "2018-01-08T06:22:28.883726Z",
     "start_time": "2018-01-08T06:22:28.879231Z"
    }
   },
   "source": [
    "|Technology   | Heat Rate (Btu/kWh)  | Emissions (lb/MMBtu)  |  Emissions (kg/MW-hour) | Emissions (t/MW-hour)  |\n",
    "|---|---|---|---|---|\n",
    "| Advanced Natural Gas Combined Cycle (ANGCC)  | 6,300  | 117  | 117* 1.548 |   |\n",
    "| Advanced Combustion Turbine (ACT)  | 9,800  | 117  |   |   |\n",
    "|   |   |   |   |   |\n",
    "\n",
    "--Updated Capital Cost Estimates for Utility Scale Electricity Generating Plants\n",
    "\n",
    "https://www.eia.gov/tools/faqs/faq.php?id=107&t=3\n",
    "\n",
    "To express the efficiency of a generator or power plant as a percentage, divide the equivalent Btu content of a kWh of electricity (3,412 Btu) by the heat rate. For example, if the heat rate is 10,500 Btu, the efficiency is 33%. If the heat rate is 7,500 Btu, the efficiency is 45%."
   ]
  },
  {
   "cell_type": "code",
   "execution_count": 16,
   "metadata": {
    "ExecuteTime": {
     "end_time": "2018-01-08T07:01:41.546199Z",
     "start_time": "2018-01-08T07:01:41.543191Z"
    }
   },
   "outputs": [
    {
     "data": {
      "text/plain": [
       "0.33434293592700004"
      ]
     },
     "execution_count": 16,
     "metadata": {},
     "output_type": "execute_result"
    }
   ],
   "source": [
    "(6300*1000/1000000)*117*0.45359237/1000 "
   ]
  },
  {
   "cell_type": "code",
   "execution_count": 17,
   "metadata": {
    "ExecuteTime": {
     "end_time": "2018-01-08T07:07:01.708622Z",
     "start_time": "2018-01-08T07:07:01.706116Z"
    }
   },
   "outputs": [
    {
     "data": {
      "text/plain": [
       "0.5200890114420001"
      ]
     },
     "execution_count": 17,
     "metadata": {},
     "output_type": "execute_result"
    }
   ],
   "source": [
    "(9800*1000/1000000)*117*0.45359237/1000 "
   ]
  },
  {
   "cell_type": "code",
   "execution_count": 12,
   "metadata": {
    "ExecuteTime": {
     "end_time": "2018-01-08T06:51:32.655852Z",
     "start_time": "2018-01-08T06:51:32.652858Z"
    }
   },
   "outputs": [
    {
     "data": {
      "text/plain": [
       "0.5415873015873016"
      ]
     },
     "execution_count": 12,
     "metadata": {},
     "output_type": "execute_result"
    }
   ],
   "source": [
    "3412/6300 "
   ]
  },
  {
   "cell_type": "code",
   "execution_count": 11,
   "metadata": {
    "ExecuteTime": {
     "end_time": "2018-01-08T06:51:30.502188Z",
     "start_time": "2018-01-08T06:51:30.499166Z"
    }
   },
   "outputs": [
    {
     "data": {
      "text/plain": [
       "0.34816326530612246"
      ]
     },
     "execution_count": 11,
     "metadata": {},
     "output_type": "execute_result"
    }
   ],
   "source": [
    "3412/9800"
   ]
  },
  {
   "cell_type": "code",
   "execution_count": null,
   "metadata": {},
   "outputs": [],
   "source": []
  }
 ],
 "metadata": {
  "kernelspec": {
   "display_name": "Python 3",
   "language": "python",
   "name": "python3"
  },
  "language_info": {
   "codemirror_mode": {
    "name": "ipython",
    "version": 3
   },
   "file_extension": ".py",
   "mimetype": "text/x-python",
   "name": "python",
   "nbconvert_exporter": "python",
   "pygments_lexer": "ipython3",
   "version": "3.6.3"
  }
 },
 "nbformat": 4,
 "nbformat_minor": 2
}
