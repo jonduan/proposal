{
 "cells": [
  {
   "cell_type": "markdown",
   "metadata": {},
   "source": [
    "Energy:\n",
    "\n",
    "1 BTU/hour = 0.293 Watts\n",
    "1 Megawatt = 3,413,000 BTU/hour\n",
    "1 boiler horsepower (BHP) = 33520 BTU/hr\n",
    "1 boiler horsepower (BHP) = 9803 Watts\n",
    "1 lb/mmbtu = 1.548 kg/MW-hr\n",
    "1 lb steam/hr (300 psi, saturated) = 1202 BTU/hr\n",
    "1 million ft3 = 10,000 therms\n",
    "1 therm = 100,000 BTU\n",
    "1 therm = 100 ft3natural gas (approximately)\n",
    "1 ft3 natural gas = 1000 BTU (approximately)\n",
    "1 Pound of fuel oil = 19,000 BTU (approximately)\n",
    "\n",
    "http://www.epa.illinois.gov/topics/air-quality/planning-reporting/annual-emission-reports/tables/conversion-factors/index"
   ]
  },
  {
   "cell_type": "code",
   "execution_count": null,
   "metadata": {},
   "outputs": [],
   "source": []
  },
  {
   "cell_type": "code",
   "execution_count": null,
   "metadata": {},
   "outputs": [],
   "source": []
  },
  {
   "cell_type": "code",
   "execution_count": null,
   "metadata": {},
   "outputs": [],
   "source": []
  }
 ],
 "metadata": {
  "kernelspec": {
   "display_name": "Python 3",
   "language": "python",
   "name": "python3"
  },
  "language_info": {
   "codemirror_mode": {
    "name": "ipython",
    "version": 3
   },
   "file_extension": ".py",
   "mimetype": "text/x-python",
   "name": "python",
   "nbconvert_exporter": "python",
   "pygments_lexer": "ipython3",
   "version": "3.6.3"
  }
 },
 "nbformat": 4,
 "nbformat_minor": 2
}
