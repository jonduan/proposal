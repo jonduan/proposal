{
 "cells": [
  {
   "cell_type": "code",
   "execution_count": 1,
   "metadata": {
    "ExecuteTime": {
     "end_time": "2018-01-07T01:39:22.563025Z",
     "start_time": "2018-01-07T01:39:22.360486Z"
    }
   },
   "outputs": [],
   "source": [
    "\"\"\"Description: SGPniceGraphics module contains:\n",
    "\n",
    "Pfixplot(an_axis) <-- make plot background transparent; remove top and right axes\n",
    "Pfixlegend(an_axis)  <-- make legend background transparent;\n",
    "Pcircsize=4  <-- nice looking size parameter for circle markers\n",
    "\n",
    "Usage:\n",
    "import matplotlib.pyplot as plt\n",
    "from SGPniceGraphics import *\n",
    "\n",
    "Begin with \n",
    "plt.figure(frameon=False,figsize=(7.5,2.5)) <-- or desired size, inches\n",
    "\n",
    "Give plot command(s), e.g.\n",
    "ax = plt.plot(...)\n",
    "or \n",
    "ax = plt.subplot(...) ...\n",
    "If using circle markers, use \n",
    ",markersize=Pcircsize\n",
    "\n",
    "Then issue\n",
    "Pfixplot(ax)\n",
    "\n",
    "If using a legend, \n",
    "leg = ax4.legend(mylabels)\n",
    "then issue\n",
    "Pfixlegend(leg)  <-- make legend background transparent\n",
    "\n",
    "If needed issue\n",
    "plt.tight_layout() <-- to prevent panels of multipart figure from overlapping\n",
    "\n",
    "Save to pdf with\n",
    "Psavefig('myfigure.pdf')\n",
    "\n",
    "Created on Wed May 20 15:51:15 2015\n",
    "Author: pcn Python:3.4.2\n",
    "\"\"\"\n",
    "import matplotlib.pyplot as plt\n",
    "\n",
    "Pcircsize=4\n",
    "\n",
    "def Pfixplot(this_axis): \n",
    "    \"\"\"After making a plot, issue Pfixplot(axis). This function sets background boxes\n",
    "    to be transparent and removes top and right axes.\"\"\"\n",
    "    this_axis.patch.set_alpha(0) # transparent box\n",
    "    this_axis.spines['right'].set_visible(False)\n",
    "    this_axis.spines['top'].set_visible(False)\n",
    "    # Only show ticks on the left and bottom spines\n",
    "    this_axis.yaxis.set_ticks_position('left')\n",
    "    this_axis.xaxis.set_ticks_position('bottom')\n",
    "def Pfixlegend(this_legend):\n",
    "    \"\"\"After making a legend and assigning it to a symbol mylegend, issue Pfixplot(mylegend).\n",
    "    This function sets the background box to be transparent.\"\"\"\n",
    "    frame=this_legend.get_frame()                      \n",
    "    frame.set_facecolor((0,0,0,0))    #transparent box (R,G,B,alpha)            #TCD\n",
    "def Psavefig(this_file):\n",
    "    \"\"\"After making a graph, issue Psavefig(filename). This function sets some useful\n",
    "    options.\"\"\"\n",
    "    plt.savefig(this_file,transparent=True,bbox_inches='tight',pad_inches=0)\n"
   ]
  },
  {
   "cell_type": "code",
   "execution_count": null,
   "metadata": {},
   "outputs": [],
   "source": []
  }
 ],
 "metadata": {
  "kernelspec": {
   "display_name": "Python 3",
   "language": "python",
   "name": "python3"
  },
  "language_info": {
   "codemirror_mode": {
    "name": "ipython",
    "version": 3
   },
   "file_extension": ".py",
   "mimetype": "text/x-python",
   "name": "python",
   "nbconvert_exporter": "python",
   "pygments_lexer": "ipython3",
   "version": "3.6.3"
  }
 },
 "nbformat": 4,
 "nbformat_minor": 2
}
