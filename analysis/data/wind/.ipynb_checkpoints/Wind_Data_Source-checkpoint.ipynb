{
 "cells": [
  {
   "cell_type": "markdown",
   "metadata": {},
   "source": [
    "# A Script for Scraping Weather Data from Environment Canada\n",
    "\n",
    "2018-01-08 version 1.1"
   ]
  },
  {
   "cell_type": "code",
   "execution_count": 1,
   "metadata": {
    "ExecuteTime": {
     "end_time": "2018-01-08T20:35:18.488868Z",
     "start_time": "2018-01-08T20:35:17.855Z"
    }
   },
   "outputs": [
    {
     "name": "stderr",
     "output_type": "stream",
     "text": [
      "Loading required package: xml2\n",
      "\n",
      "Attaching package: 'dplyr'\n",
      "\n",
      "The following objects are masked from 'package:stats':\n",
      "\n",
      "    filter, lag\n",
      "\n",
      "The following objects are masked from 'package:base':\n",
      "\n",
      "    intersect, setdiff, setequal, union\n",
      "\n",
      "\n",
      "Attaching package: 'lubridate'\n",
      "\n",
      "The following object is masked from 'package:base':\n",
      "\n",
      "    date\n",
      "\n",
      "\n",
      "Attaching package: 'XML'\n",
      "\n",
      "The following object is masked from 'package:rvest':\n",
      "\n",
      "    xml\n",
      "\n"
     ]
    }
   ],
   "source": [
    "#-----------------\n",
    "  # Dependencies:\n",
    "  #-----------------\n",
    "  #install.packages(c(\"lubridate\",\"XML\"),repos=\"http://cran.rstudio.com\")\n",
    "  \n",
    "  library(\"rvest\")\n",
    "  library(dplyr)\n",
    "  library(lubridate)\n",
    "  library(XML)\n",
    "  "
   ]
  },
  {
   "cell_type": "code",
   "execution_count": 48,
   "metadata": {
    "ExecuteTime": {
     "end_time": "2018-01-09T02:02:56.797428Z",
     "start_time": "2018-01-09T02:02:56.765Z"
    }
   },
   "outputs": [],
   "source": [
    "# sample station\n",
    "day1 = '2010-11-25' \n",
    "day2 = '2010-11-26'\n",
    "stationID = 31408\n",
    "stationName = 'Barnwell AGDM'"
   ]
  },
  {
   "cell_type": "code",
   "execution_count": null,
   "metadata": {},
   "outputs": [],
   "source": []
  },
  {
   "cell_type": "code",
   "execution_count": 49,
   "metadata": {
    "ExecuteTime": {
     "end_time": "2018-01-09T02:03:02.221571Z",
     "start_time": "2018-01-09T02:03:02.174Z"
    }
   },
   "outputs": [],
   "source": [
    "  ############################\n",
    "  # HOURLY WEATHER DOWNLOADS #\n",
    "  ############################\n",
    "  \n",
    "  \n",
    "  # sample\n",
    "  \n",
    "  # http://climate.weather.gc.ca/climate_data/hourly_data_e.html?hlyRange=2004-06-16%7C2017-04-20&dlyRange=2004-06-01%7C2017-04-20&mlyRange=2004-06-01%7C2007-10-01&StationID=42729&Prov=AB&urlExtension=_e.html&searchType=stnName&optLimit=yearRange&StartYear=1840&EndYear=2017&selRowPerPage=25&Line=1&searchMethod=contains&Month=4&Day=20&txtStationName=Raymond&timeframe=1&Year=2017\n",
    "  \n",
    "  # Things you need to change for each station:\n",
    "  #location_url = paste(\"Prov=AB&StationID=\",stationID,\"&hlyRange=2004-06-16%7C\",day2,sep='')   # \n",
    "  #day1 = day1\n",
    "  #day2 = day2\n",
    "  #--------------------day1 and day1 inside the hlyRange=2010-10-01%7C2013-03-11\n",
    "  \n",
    "  # Things that don't need to be changed: (make a date vector)\n",
    "  start = strptime(day1, format = '%Y-%m-%d')\n",
    "  end = strptime(day2, format = '%Y-%m-%d')\n",
    "  days = seq(start, end, 'days')\n",
    "\n",
    "  \n"
   ]
  },
  {
   "cell_type": "code",
   "execution_count": 50,
   "metadata": {
    "ExecuteTime": {
     "end_time": "2018-01-09T02:03:03.051175Z",
     "start_time": "2018-01-09T02:03:03.026Z"
    }
   },
   "outputs": [
    {
     "data": {
      "text/plain": [
       "[1] \"2010-11-25 PST\" \"2010-11-26 PST\""
      ]
     },
     "metadata": {},
     "output_type": "display_data"
    }
   ],
   "source": [
    "days"
   ]
  },
  {
   "cell_type": "code",
   "execution_count": 51,
   "metadata": {
    "ExecuteTime": {
     "end_time": "2018-01-09T02:03:08.915550Z",
     "start_time": "2018-01-09T02:03:08.876Z"
    }
   },
   "outputs": [],
   "source": [
    "# try first day\n",
    "    i=1    \n",
    "    year =  year(days[i])\n",
    "    month = month(days[i])\n",
    "    day = day(days[i])\n",
    "    dly =strtrim(days[1],10)\n",
    "      #http://climate.weather.gc.ca/climate_data/hourly_data_e.html?hlyRange=2004-06-16%7C2017-04-20&dlyRange=2004-06-01%7C2017-04-20&mlyRange=2004-06-01%7C2007-10-01&StationID=42729&Prov=AB&urlExtension=_e.html&searchType=stnName&optLimit=yearRange&StartYear=1840&EndYear=2017&selRowPerPage=25&Line=1&searchMethod=contains&Month=4&Day=20&txtStationName=Raymond&timeframe=1&Year=2017\n",
    "    #http://climate.weather.gc.ca/climate_data/hourly_data_e.html?hlyRange=2004-06-16%7C\n",
    "    # dly 2017-04-20\n",
    "    #&dlyRange=2004-06-01%7C\n",
    "    # dly 2017-04-20\n",
    "    #42729\n",
    "    #&Prov=AB&urlExtension=_e.html&searchType=stnName&optLimit=yearRange&StartYear=1840&EndYear=2017&selRowPerPage=25&Line=1&searchMethod=contains&Month=4&Day=20&txtStationName=Raymond&timeframe=1&Year=2017\n",
    "    \n",
    "    preamb = 'http://climate.weather.gc.ca/climate_data/hourly_data_e.html?hlyRange=2004-06-16%7C'\n",
    "    # daily range\n",
    "    dlyRange = '&dlyRange=2004-06-01%7C'\n",
    "    # monthly range  \n",
    "    mlyRange = '&mlyRange=2004-06-01%7C2007-10-01&StationID='\n",
    "    # location   \n",
    "    location_url = \"&Prov=AB&urlExtension=_e.html&searchType=stnName\" \n",
    "    \n",
    "    # year range\n",
    "    year0_url = '&optLimit=yearRange&StartYear=1840&EndYear='\n",
    "    # month  \n",
    "    month_url = \"&selRowPerPage=25&Line=1&searchMethod=contains&Month=\"\n",
    "    # day  \n",
    "    day_url = '&Day='\n",
    "    # station name  \n",
    "    st_url = '&txtStationName='\n",
    "    # year  \n",
    "    year1_url = '&timeframe=1&Year='\n",
    "    # put together\n",
    "    url = paste0(preamb,dly,\n",
    "                dlyRange,dly,\n",
    "                mlyRange,stationID,\n",
    "                location_url,\n",
    "                year0_url ,year, \n",
    "                month_url, month, \n",
    "                day_url, day, \n",
    "                st_url,URLencode(stationName), # replace space to %20\n",
    "                year1_url,year)"
   ]
  },
  {
   "cell_type": "code",
   "execution_count": 52,
   "metadata": {
    "ExecuteTime": {
     "end_time": "2018-01-09T02:03:11.679547Z",
     "start_time": "2018-01-09T02:03:11.236Z"
    }
   },
   "outputs": [],
   "source": [
    "### key part to read data from website     \n",
    "# read xml table from website\n",
    "    #data = readHTMLTable(url)\n",
    "    #data = data.frame(data[1] )\n",
    "    \n",
    "    data <- url %>%\n",
    "      read_html() %>%\n",
    "      html_nodes(xpath='//*[@id=\"dynamicDataTable\"]/table') %>%\n",
    "      html_table() "
   ]
  },
  {
   "cell_type": "code",
   "execution_count": null,
   "metadata": {
    "ExecuteTime": {
     "end_time": "2018-01-09T02:03:14.696281Z",
     "start_time": "2018-01-09T02:03:14.657Z"
    }
   },
   "outputs": [],
   "source": []
  },
  {
   "cell_type": "code",
   "execution_count": 54,
   "metadata": {
    "ExecuteTime": {
     "end_time": "2018-01-09T02:03:26.621648Z",
     "start_time": "2018-01-09T02:03:26.534Z"
    }
   },
   "outputs": [
    {
     "data": {
      "text/plain": [
       "NULL"
      ]
     },
     "metadata": {},
     "output_type": "display_data"
    }
   ],
   "source": [
    "##  clean the data format for csv\n",
    "\n",
    "    \n",
    "    # from list to take first dataframe item\n",
    "    data = data[[1]]\n",
    "    # rename the first column of the dataframe   \n",
    "    names(data)[1]=\"time\"\n",
    "    # Select rows by position from 2nd row\n",
    "    data = data%>%slice( 2:n())\n",
    "    #data = data.frame(data[[1]])\n",
    "    \n",
    "    ### solve missing data problem\n",
    "    if (is.factor(data)){\n",
    "      # generate NA dataframe for missing data day, for example 2010/11/25\n",
    "      data=data.frame(matrix(data=NA,nrow=24,ncol = 11))\n",
    "      data[,1] = 0:23  # first column\n",
    "    }else{\n",
    "      # Fix dumb time 'Legend add-on\n",
    "      #data[,1] = matrix(unlist(strsplit(as.character(data[,1]), ':', fixed = T)),ncol = 2,byrow = T)[,1]\n",
    "    }\n",
    "      \n",
    "    # add last four columns\n",
    "    data$Year = year\n",
    "    data$Month = month\n",
    "    data$Day = day\n",
    "    data$StationName = stationName\n",
    "    # change colname\n",
    "    colnames(data) = c(\"Time\", 'TempC', 'DewTempC', 'RelH', 'WindDir', \"WindSpdkm.h\", \"Visibilitykm\",\"PresskPa\", \"Hmdx\", \"WindChill\", \"Weather\",\"Year\",\"Month\",\"Day\",\"StationName\")\n",
    "    "
   ]
  },
  {
   "cell_type": "code",
   "execution_count": null,
   "metadata": {
    "ExecuteTime": {
     "end_time": "2018-01-09T02:03:31.954102Z",
     "start_time": "2018-01-09T02:03:31.902Z"
    }
   },
   "outputs": [],
   "source": []
  },
  {
   "cell_type": "code",
   "execution_count": 56,
   "metadata": {
    "ExecuteTime": {
     "end_time": "2018-01-09T02:05:40.722021Z",
     "start_time": "2018-01-09T02:05:40.147Z"
    }
   },
   "outputs": [],
   "source": [
    "## loop by days  \n",
    "  weather_data = c()\n",
    "  for (i in 1:length(days)){\n",
    "    year =  year(days[i])\n",
    "    month = month(days[i])\n",
    "    day = day(days[i])\n",
    "    dly =strtrim(days[1],10)\n",
    "      #http://climate.weather.gc.ca/climate_data/hourly_data_e.html?hlyRange=2004-06-16%7C2017-04-20&dlyRange=2004-06-01%7C2017-04-20&mlyRange=2004-06-01%7C2007-10-01&StationID=42729&Prov=AB&urlExtension=_e.html&searchType=stnName&optLimit=yearRange&StartYear=1840&EndYear=2017&selRowPerPage=25&Line=1&searchMethod=contains&Month=4&Day=20&txtStationName=Raymond&timeframe=1&Year=2017\n",
    "    #http://climate.weather.gc.ca/climate_data/hourly_data_e.html?hlyRange=2004-06-16%7C\n",
    "    # dly 2017-04-20\n",
    "    #&dlyRange=2004-06-01%7C\n",
    "    # dly 2017-04-20\n",
    "    #42729\n",
    "    #&Prov=AB&urlExtension=_e.html&searchType=stnName&optLimit=yearRange&StartYear=1840&EndYear=2017&selRowPerPage=25&Line=1&searchMethod=contains&Month=4&Day=20&txtStationName=Raymond&timeframe=1&Year=2017\n",
    "    \n",
    "    preamb = 'http://climate.weather.gc.ca/climate_data/hourly_data_e.html?hlyRange=2004-06-16%7C'\n",
    "    # daily range\n",
    "    dlyRange = '&dlyRange=2004-06-01%7C'\n",
    "    # monthly range  \n",
    "    mlyRange = '&mlyRange=2004-06-01%7C2007-10-01&StationID='\n",
    "    # location   \n",
    "    location_url = \"&Prov=AB&urlExtension=_e.html&searchType=stnName\" \n",
    "    \n",
    "    # year range\n",
    "    year0_url = '&optLimit=yearRange&StartYear=1840&EndYear='\n",
    "    # month  \n",
    "    month_url = \"&selRowPerPage=25&Line=1&searchMethod=contains&Month=\"\n",
    "    # day  \n",
    "    day_url = '&Day='\n",
    "    # station name  \n",
    "    st_url = '&txtStationName='\n",
    "    # year  \n",
    "    year1_url = '&timeframe=1&Year='\n",
    "    # put together\n",
    "    url = paste0(preamb,dly,\n",
    "                dlyRange,dly,\n",
    "                mlyRange,stationID,\n",
    "                location_url,\n",
    "                year0_url ,year, \n",
    "                month_url, month, \n",
    "                day_url, day, \n",
    "                st_url,URLencode(stationName), # replace space to %20\n",
    "                year1_url,year)\n",
    "    \n",
    "### key part to read data from website     \n",
    "# read xml table from website\n",
    "    #data = readHTMLTable(url)\n",
    "    #data = data.frame(data[1] )\n",
    "    \n",
    "    data <- url %>%\n",
    "      read_html() %>%\n",
    "      html_nodes(xpath='//*[@id=\"dynamicDataTable\"]/table') %>%\n",
    "      html_table() \n",
    "    \n",
    " ##  clean the data format for csv\n",
    "\n",
    "    \n",
    "    # from list to take first dataframe item\n",
    "    data = data[[1]]\n",
    "    # rename the first column of the dataframe   \n",
    "    names(data)[1]=\"time\"\n",
    "    # Select rows by position from 2nd row\n",
    "    data = data%>%slice( 2:n())\n",
    "    #data = data.frame(data[[1]])\n",
    "    \n",
    "    ### solve missing data problem\n",
    "    if (is.factor(data)){\n",
    "      # generate NA dataframe for missing data day, for example 2010/11/25\n",
    "      data=data.frame(matrix(data=NA,nrow=24,ncol = 11))\n",
    "      data[,1] = 0:23  # first column\n",
    "    }else{\n",
    "      # Fix dumb time 'Legend add-on\n",
    "      #data[,1] = matrix(unlist(strsplit(as.character(data[,1]), ':', fixed = T)),ncol = 2,byrow = T)[,1]\n",
    "    }\n",
    "      \n",
    "    # add last four columns\n",
    "    data$Year = year\n",
    "    data$Month = month\n",
    "    data$Day = day\n",
    "    data$StationName = stationName\n",
    "    # change colname\n",
    "    colnames(data) = c(\"Time\", 'TempC', 'DewTempC', 'RelH', 'WindDir', \"WindSpdkm.h\", \"Visibilitykm\",\"PresskPa\", \"Hmdx\", \"WindChill\", \"Weather\",\"Year\",\"Month\",\"Day\",\"StationName\")\n",
    "    # Collate Data, stack by rows\n",
    "    weather_data = rbind(weather_data,data)  \n",
    "  }"
   ]
  },
  {
   "cell_type": "code",
   "execution_count": null,
   "metadata": {
    "ExecuteTime": {
     "end_time": "2018-01-09T02:05:49.204542Z",
     "start_time": "2018-01-09T02:05:49.116Z"
    }
   },
   "outputs": [],
   "source": []
  },
  {
   "cell_type": "code",
   "execution_count": 58,
   "metadata": {
    "ExecuteTime": {
     "end_time": "2018-01-09T02:08:26.329897Z",
     "start_time": "2018-01-09T02:08:26.306Z"
    }
   },
   "outputs": [],
   "source": [
    "# start off new function for data scraping\n",
    "getWindData = function(day1 = '2009-10-01', \n",
    "                       day2 = '2016-03-10',\n",
    "                       stationID = 42729,\n",
    "                       stationName = 'Raymond'){\n",
    "  \n",
    "  #-----------------\n",
    "  # Dependencies:\n",
    "  #-----------------\n",
    "  #install.packages(c(\"lubridate\",\"XML\"),repos=\"http://cran.rstudio.com\")\n",
    "  \n",
    "  library(\"rvest\")\n",
    "  library(dplyr)\n",
    "  library(lubridate)\n",
    "  library(XML)\n",
    "  \n",
    "  ############################\n",
    "  # HOURLY WEATHER DOWNLOADS #\n",
    "  ############################\n",
    "  \n",
    "  \n",
    "  # sample\n",
    "  \n",
    "  # http://climate.weather.gc.ca/climate_data/hourly_data_e.html?hlyRange=2004-06-16%7C2017-04-20&dlyRange=2004-06-01%7C2017-04-20&mlyRange=2004-06-01%7C2007-10-01&StationID=42729&Prov=AB&urlExtension=_e.html&searchType=stnName&optLimit=yearRange&StartYear=1840&EndYear=2017&selRowPerPage=25&Line=1&searchMethod=contains&Month=4&Day=20&txtStationName=Raymond&timeframe=1&Year=2017\n",
    "  \n",
    "  # Things you need to change for each station:\n",
    "  #location_url = paste(\"Prov=AB&StationID=\",stationID,\"&hlyRange=2004-06-16%7C\",day2,sep='')   # \n",
    "  #day1 = day1\n",
    "  #day2 = day2\n",
    "  #--------------------day1 and day1 inside the hlyRange=2010-10-01%7C2013-03-11\n",
    "  \n",
    "  # Things that don't need to be changed: (make a date vector)\n",
    "  start = strptime(day1, format = '%Y-%m-%d')\n",
    "  end = strptime(day2, format = '%Y-%m-%d')\n",
    "  days = seq(start, end, 'days')\n",
    "  \n",
    "## loop by days  \n",
    "  weather_data = c()\n",
    "  for (i in 1:length(days)){\n",
    "    year =  year(days[i])\n",
    "    month = month(days[i])\n",
    "    day = day(days[i])\n",
    "    dly =strtrim(days[1],10)\n",
    "      #http://climate.weather.gc.ca/climate_data/hourly_data_e.html?hlyRange=2004-06-16%7C2017-04-20&dlyRange=2004-06-01%7C2017-04-20&mlyRange=2004-06-01%7C2007-10-01&StationID=42729&Prov=AB&urlExtension=_e.html&searchType=stnName&optLimit=yearRange&StartYear=1840&EndYear=2017&selRowPerPage=25&Line=1&searchMethod=contains&Month=4&Day=20&txtStationName=Raymond&timeframe=1&Year=2017\n",
    "    #http://climate.weather.gc.ca/climate_data/hourly_data_e.html?hlyRange=2004-06-16%7C\n",
    "    # dly 2017-04-20\n",
    "    #&dlyRange=2004-06-01%7C\n",
    "    # dly 2017-04-20\n",
    "    #42729\n",
    "    #&Prov=AB&urlExtension=_e.html&searchType=stnName&optLimit=yearRange&StartYear=1840&EndYear=2017&selRowPerPage=25&Line=1&searchMethod=contains&Month=4&Day=20&txtStationName=Raymond&timeframe=1&Year=2017\n",
    "    \n",
    "    preamb = 'http://climate.weather.gc.ca/climate_data/hourly_data_e.html?hlyRange=2004-06-16%7C'\n",
    "    # daily range\n",
    "    dlyRange = '&dlyRange=2004-06-01%7C'\n",
    "    # monthly range  \n",
    "    mlyRange = '&mlyRange=2004-06-01%7C2007-10-01&StationID='\n",
    "    # location   \n",
    "    location_url = \"&Prov=AB&urlExtension=_e.html&searchType=stnName\" \n",
    "    \n",
    "    # year range\n",
    "    year0_url = '&optLimit=yearRange&StartYear=1840&EndYear='\n",
    "    # month  \n",
    "    month_url = \"&selRowPerPage=25&Line=1&searchMethod=contains&Month=\"\n",
    "    # day  \n",
    "    day_url = '&Day='\n",
    "    # station name  \n",
    "    st_url = '&txtStationName='\n",
    "    # year  \n",
    "    year1_url = '&timeframe=1&Year='\n",
    "    # put together\n",
    "    url = paste0(preamb,dly,\n",
    "                dlyRange,dly,\n",
    "                mlyRange,stationID,\n",
    "                location_url,\n",
    "                year0_url ,year, \n",
    "                month_url, month, \n",
    "                day_url, day, \n",
    "                st_url,URLencode(stationName), # replace space to %20\n",
    "                year1_url,year)\n",
    "    \n",
    "### key part to read data from website     \n",
    "# read xml table from website\n",
    "    #data = readHTMLTable(url)\n",
    "    #data = data.frame(data[1] )\n",
    "    \n",
    "    data <- url %>%\n",
    "      read_html() %>%\n",
    "      html_nodes(xpath='//*[@id=\"dynamicDataTable\"]/table') %>%\n",
    "      html_table() \n",
    "    \n",
    " ##  clean the data format for csv\n",
    "\n",
    "    \n",
    "    # from list to take first dataframe item\n",
    "    data = data[[1]]\n",
    "    # rename the first column of the dataframe   \n",
    "    names(data)[1]=\"time\"\n",
    "    # Select rows by position from 2nd row\n",
    "    data = data%>%slice( 2:n())\n",
    "    #data = data.frame(data[[1]])\n",
    "    \n",
    "    ### solve missing data problem\n",
    "    if (is.factor(data)){\n",
    "      # generate NA dataframe for missing data day, for example 2010/11/25\n",
    "      data=data.frame(matrix(data=NA,nrow=24,ncol = 11))\n",
    "      data[,1] = 0:23  # first column\n",
    "    }else{\n",
    "      # Fix dumb time 'Legend add-on\n",
    "      #data[,1] = matrix(unlist(strsplit(as.character(data[,1]), ':', fixed = T)),ncol = 2,byrow = T)[,1]\n",
    "    }\n",
    "      \n",
    "    # add last four columns\n",
    "    data$Year = year\n",
    "    data$Month = month\n",
    "    data$Day = day\n",
    "    data$StationName = stationName\n",
    "    # change colname\n",
    "    colnames(data) = c(\"Time\", 'TempC', 'DewTempC', 'RelH', 'WindDir', \"WindSpdkm.h\", \"Visibilitykm\",\"PresskPa\", \"Hmdx\", \"WindChill\", \"Weather\",\"Year\",\"Month\",\"Day\",\"StationName\")\n",
    "    # Collate Data, stack by rows\n",
    "    weather_data = rbind(weather_data,data)  \n",
    "  }\n",
    "  \n",
    "  # This you may want to change: \n",
    "  \n",
    "  # Write .csv using paste(stationName, \"_2008_16weather_data.csv\", sep='')\n",
    "  write.csv(weather_data,paste0(stationName, \"_\",strsplit(day1, '-', fixed = T)[[1]][1],\"_weather_data.csv\"), row.names = F)\n",
    "  \n",
    "  # Thats all ...\n",
    "}     "
   ]
  },
  {
   "cell_type": "code",
   "execution_count": 59,
   "metadata": {
    "ExecuteTime": {
     "end_time": "2018-01-09T02:08:53.758071Z",
     "start_time": "2018-01-09T02:08:51.245Z"
    }
   },
   "outputs": [],
   "source": [
    "getWindData(day1 = '2015-01-01', \n",
    "            day2 = '2015-1-10',\n",
    "            stationID = 31408,\n",
    "            stationName = 'Barnwell AGDM')"
   ]
  },
  {
   "cell_type": "code",
   "execution_count": 60,
   "metadata": {
    "ExecuteTime": {
     "end_time": "2018-01-09T02:09:37.443446Z",
     "start_time": "2018-01-09T02:09:37.421Z"
    }
   },
   "outputs": [],
   "source": [
    "# 2018-01-08 working version 1.1"
   ]
  },
  {
   "cell_type": "code",
   "execution_count": null,
   "metadata": {},
   "outputs": [],
   "source": []
  }
 ],
 "metadata": {
  "kernelspec": {
   "display_name": "R",
   "language": "R",
   "name": "ir"
  },
  "language_info": {
   "codemirror_mode": "r",
   "file_extension": ".r",
   "mimetype": "text/x-r-source",
   "name": "R",
   "pygments_lexer": "r",
   "version": "3.4.2"
  }
 },
 "nbformat": 4,
 "nbformat_minor": 2
}
