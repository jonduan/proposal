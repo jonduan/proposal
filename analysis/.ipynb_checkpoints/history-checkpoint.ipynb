{
 "cells": [
  {
   "cell_type": "markdown",
   "metadata": {},
   "source": [
    "Under the EUA, offers to supply power into the Power Pool and bids to purchase power from the Power Pool determine in a spot market, on an hourly basis, the wholesale market price for electricity in Alberta. We"
   ]
  },
  {
   "cell_type": "markdown",
   "metadata": {},
   "source": [
    "2. Transmission\n",
    "Transmission (high voltage from 72KV to 500KV) is generally regulated in Alberta under a cost-of-service model. Customers (commercial and residential), through the AESO, pay the owners of the transmission systems (Transmission Facility Owners or TFOs) their capital and operating costs, plus a reasonable rate of return."
   ]
  },
  {
   "cell_type": "markdown",
   "metadata": {},
   "source": [
    "The SCC is also home to the Energy Trading System. The wholesale electricity market in Alberta operates much like a stock exchange, matching offers from market participants who wish to sell electricity with bids from market participants who wish to buy it. A market participant is any organization who generates, buys or sells, transmits, distributes, trades, imports or exports electricity in the Alberta market.\n",
    "\n",
    "-- How is the pool price for electricity determined?"
   ]
  },
  {
   "cell_type": "markdown",
   "metadata": {},
   "source": [
    "We defined the System Marginal Price (SMP) as the generator bid that clears the market, and assumed that sellers are paid the SMP, while buyers pay the SMP. In fact, sellers at a node are paid a price called Locational Marginal Price (LMP), while buyers pay the LMP at their node. Formally, the LMP at node k in the network is defined as the marginal cost of delivering an incremental unit of energy (one additional MW) to node k in the network. If there is no congestion in the network, and there are no transmission losses, LMPs at all nodes are identical and equal to the SMP.\n",
    "\n",
    "http://www.chegg.com/homework-help/questions-and-answers/defined-system-marginal-price-smp-generator-bid-clears-market-assumed-sellers-paid-smp-buy-q16332215"
   ]
  }
 ],
 "metadata": {
  "kernelspec": {
   "display_name": "Python 3",
   "language": "python",
   "name": "python3"
  },
  "language_info": {
   "codemirror_mode": {
    "name": "ipython",
    "version": 3
   },
   "file_extension": ".py",
   "mimetype": "text/x-python",
   "name": "python",
   "nbconvert_exporter": "python",
   "pygments_lexer": "ipython3",
   "version": "3.6.3"
  }
 },
 "nbformat": 4,
 "nbformat_minor": 2
}
